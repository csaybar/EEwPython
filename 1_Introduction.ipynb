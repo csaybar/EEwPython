{
 "cells": [
  {
   "cell_type": "markdown",
   "metadata": {
    "colab_type": "text",
    "id": "oT30_0wOz5-P"
   },
   "source": [
    "<!--COURSE_INFORMATION-->\n",
    "<img align=\"left\" style=\"padding-right:10px;\" src=\"https://sitejerk.com/images/google-earth-logo-png-5.png\" width=5% >\n",
    "<img align=\"right\" style=\"padding-left:10px;\" src=\"https://colab.research.google.com/img/colab_favicon_256px.png\" width=6% >\n",
    "\n",
    "\n",
    ">> *This notebook is part of the free course [EEwPython](https://colab.research.google.com/github/csaybar/EEwPython/blob/master/index.ipynb); the content is available [on GitHub](https://github.com/csaybar/EEwPython)* and released under the [Apache 2.0 License](https://www.gnu.org/licenses/gpl-3.0.en.html). 99% of this material has been adapted from [Google Earth Engine Guides](https://developers.google.com/earth-engine/)."
   ]
  },
  {
   "cell_type": "markdown",
   "metadata": {
    "colab_type": "text",
    "id": "Y1EZ7wfkIv-a"
   },
   "source": [
    "<!--NAVIGATION-->\n",
    "| [Contents](index.ipynb) | [Image](2_eeImage.ipynb) >\n",
    "\n",
    "<a href=\"https://colab.research.google.com/github/csaybar/EEwPython/blob/master/1_Introduction.ipynb\"><img align=\"left\" src=\"https://colab.research.google.com/assets/colab-badge.svg\" alt=\"Open in Colab\" title=\"Open and Execute in Google Colaboratory\"></a>\n"
   ]
  },
  {
   "cell_type": "markdown",
   "metadata": {
    "colab_type": "text",
    "id": "5AkUqloUQpXv"
   },
   "source": [
    "<center>\n",
    "<h1>Google Earth Engine with Python </h1>\n",
    "<h2> Developer's Guide </h2>\n",
    "</center>\n",
    "<h2> Topics:</h2>\n",
    "\n",
    "\n",
    "1. What is colab?\n",
    "2. Explore colab for yourself\n",
    "3. What is Google Earth Engine?\n",
    "4. Why colab with python instead of code editor (Javascript)?\n",
    "5. Connecting GEE with other Google Services\n",
    "6. Hello World!\n",
    "7. Fundamental Earth Engine data structures\n",
    "\n"
   ]
  },
  {
   "cell_type": "code",
   "execution_count": 0,
   "metadata": {
    "cellView": "form",
    "colab": {
     "base_uri": "https://localhost:8080/",
     "height": 335
    },
    "colab_type": "code",
    "id": "4DYheup28Y52",
    "outputId": "3e526b21-908a-4c61-fcee-000887f32e7b"
   },
   "outputs": [
    {
     "data": {
      "text/html": [
       "<center><iframe width=\"560\" height=\"315\" src=\"https://www.youtube.com/embed/inN8seMm7UI\" frameborder=\"0\" allow=\"accelerometer; autoplay; encrypted-media; gyroscope; picture-in-picture\" allowfullscreen></iframe></center>"
      ],
      "text/plain": [
       "<IPython.core.display.HTML object>"
      ]
     },
     "execution_count": 2,
     "metadata": {
      "tags": []
     },
     "output_type": "execute_result"
    }
   ],
   "source": [
    "#@title 1. What is Colab?\n",
    "#@markdown [Colaboratory](https://research.google.com/colaboratory/faq.html) is a Google research project created to help disseminate machine learning education and research. It's a Jupyter notebook environment that requires **no setup to use and runs entirely in the cloud**. Colab runs over a Virtual Machine with Ubuntu 18.04, for activate the GPU and TPU support navigate for the **menu bar** as follow:\n",
    "#@markdown <center><b> Runtine ---> Change run time ---> Hardware accelarator </b></center>\n",
    "from IPython.display import HTML\n",
    "HTML('<center><iframe width=\"560\" height=\"315\" src=\"https://www.youtube.com/embed/inN8seMm7UI\" frameborder=\"0\" allow=\"accelerometer; autoplay; encrypted-media; gyroscope; picture-in-picture\" allowfullscreen></iframe></center>')"
   ]
  },
  {
   "cell_type": "markdown",
   "metadata": {
    "colab_type": "text",
    "id": "7m2n_2rW5t5V"
   },
   "source": [
    "## 2. Explore colab for yourself!"
   ]
  },
  {
   "cell_type": "markdown",
   "metadata": {
    "colab_type": "text",
    "id": "A6AH7EXG8_in"
   },
   "source": [
    "Note that you can communicate with the *bash console* prepending an `!` to the code."
   ]
  },
  {
   "cell_type": "code",
   "execution_count": 0,
   "metadata": {
    "colab": {
     "base_uri": "https://localhost:8080/",
     "height": 308
    },
    "colab_type": "code",
    "id": "vPLUOy7D6El1",
    "outputId": "17a473d3-4de0-4ff3-fcde-387a63fdcd1b"
   },
   "outputs": [
    {
     "name": "stdout",
     "output_type": "stream",
     "text": [
      "DISTRIB_ID=Ubuntu\n",
      "DISTRIB_RELEASE=18.04\n",
      "DISTRIB_CODENAME=bionic\n",
      "DISTRIB_DESCRIPTION=\"Ubuntu 18.04.2 LTS\"\n",
      "NAME=\"Ubuntu\"\n",
      "VERSION=\"18.04.2 LTS (Bionic Beaver)\"\n",
      "ID=ubuntu\n",
      "ID_LIKE=debian\n",
      "PRETTY_NAME=\"Ubuntu 18.04.2 LTS\"\n",
      "VERSION_ID=\"18.04\"\n",
      "HOME_URL=\"https://www.ubuntu.com/\"\n",
      "SUPPORT_URL=\"https://help.ubuntu.com/\"\n",
      "BUG_REPORT_URL=\"https://bugs.launchpad.net/ubuntu/\"\n",
      "PRIVACY_POLICY_URL=\"https://www.ubuntu.com/legal/terms-and-policies/privacy-policy\"\n",
      "VERSION_CODENAME=bionic\n",
      "UBUNTU_CODENAME=bionic\n"
     ]
    }
   ],
   "source": [
    "#check the SO\n",
    "!cat /etc/*release"
   ]
  },
  {
   "cell_type": "code",
   "execution_count": 0,
   "metadata": {
    "colab": {
     "base_uri": "https://localhost:8080/",
     "height": 445
    },
    "colab_type": "code",
    "id": "0xKgYVk7YPlz",
    "outputId": "edf530f7-0eac-44d9-c54d-de35662585f1"
   },
   "outputs": [
    {
     "name": "stdout",
     "output_type": "stream",
     "text": [
      "Architecture:        x86_64\n",
      "CPU op-mode(s):      32-bit, 64-bit\n",
      "Byte Order:          Little Endian\n",
      "CPU(s):              2\n",
      "On-line CPU(s) list: 0,1\n",
      "Thread(s) per core:  2\n",
      "Core(s) per socket:  1\n",
      "Socket(s):           1\n",
      "NUMA node(s):        1\n",
      "Vendor ID:           GenuineIntel\n",
      "CPU family:          6\n",
      "Model:               79\n",
      "Model name:          Intel(R) Xeon(R) CPU @ 2.20GHz\n",
      "Stepping:            0\n",
      "CPU MHz:             2200.000\n",
      "BogoMIPS:            4400.00\n",
      "Hypervisor vendor:   KVM\n",
      "Virtualization type: full\n",
      "L1d cache:           32K\n",
      "L1i cache:           32K\n",
      "L2 cache:            256K\n",
      "L3 cache:            56320K\n",
      "NUMA node0 CPU(s):   0,1\n",
      "Flags:               fpu vme de pse tsc msr pae mce cx8 apic sep mtrr pge mca cmov pat pse36 clflush mmx fxsr sse sse2 ss ht syscall nx pdpe1gb rdtscp lm constant_tsc rep_good nopl xtopology nonstop_tsc cpuid pni pclmulqdq ssse3 fma cx16 sse4_1 sse4_2 x2apic movbe popcnt aes xsave avx f16c rdrand hypervisor lahf_lm abm 3dnowprefetch pti ssbd ibrs ibpb stibp fsgsbase tsc_adjust bmi1 hle avx2 smep bmi2 erms rtm rdseed adx smap xsaveopt arat arch_capabilities\n"
     ]
    }
   ],
   "source": [
    "#How many cpu are there?\n",
    "!lscpu"
   ]
  },
  {
   "cell_type": "code",
   "execution_count": 0,
   "metadata": {
    "colab": {
     "base_uri": "https://localhost:8080/",
     "height": 34
    },
    "colab_type": "code",
    "id": "RgXgiM4mYSql",
    "outputId": "732e31db-8bdf-4f39-92f2-9d8c68a28bb8"
   },
   "outputs": [
    {
     "name": "stdout",
     "output_type": "stream",
     "text": [
      "MemTotal:       13335212 kB\n"
     ]
    }
   ],
   "source": [
    "# How much RAM does it have?\n",
    "!grep MemTotal /proc/meminfo"
   ]
  },
  {
   "cell_type": "code",
   "execution_count": 0,
   "metadata": {
    "colab": {},
    "colab_type": "code",
    "id": "vNaZr_fU8rkU"
   },
   "outputs": [],
   "source": [
    "# Check the default libraries installed\n",
    "!pip3 freeze"
   ]
  },
  {
   "cell_type": "markdown",
   "metadata": {
    "colab_type": "text",
    "id": "Asixz4C0T02x"
   },
   "source": [
    "## 3. What is Google Earth Engine?\n",
    "Google Earth Engine is a computing platform that allows users to run geospatial analysis on Google's infrastructure. There are several ways to interact with the platform:\n",
    "\n",
    "  - [Explorer](https://explorer.earthengine.google.com/)\n",
    "  - [Code Editor](https://code.earthengine.google.com/)  \n",
    "  - [Javascript wrapper library](https://github.com/google/earthengine-api/tree/master/javascript)\n",
    "  - [**Python wrapper library**](https://github.com/google/earthengine-api/tree/master/python)\n",
    "\n",
    "This course is focus in the last one, you can use the **Python wrapper lbrary** to build [custom applications](https://github.com/google/earthengine-api/tree/master/demos) and to develop Earth Engine code locally. Continue the *EEwPython* for an overview of this, or visit the **[Earth Engine’s Developer Guide](https://developers.google.com/earth-engine/getstarted)**  or the demos hosted in [GitHub](https://github.com/google/earthengine-api) for an in-depth guide.\n",
    "\n",
    "The purpose of Earth Engine is to:\n",
    "\n",
    "- Perform highly-interactive algorithm development at global scale\n",
    "\n",
    "- Push the edge of the envelope for big data in remote sensing\n",
    "\n",
    "- Enable high-impact, data-driven science\n",
    "\n",
    "- Make substantive progress on global challenges that involve large geospatial datasets\n",
    "\n",
    "### Components:\n",
    "\n",
    "The main components of Earth Engine are:\n",
    "\n",
    "- [**Datasets**](https://developers.google.com/earth-engine/datasets/): A petabyte-scale archive of publicly available remotely sensed imagery and other data. Explore the data catalog.\n",
    "\n",
    "- [**Compute power**](https://reader.elsevier.com/reader/sd/pii/S0034425717302900?token=2AC58EA43ED5306A13DA0E6AF50A5F286D59B455B45F52F9932FE71845E5C75C706C78E079BC3769B23B256612A225D0): Google’s computational infrastructure optimized for parallel processing of geospatial data.\n",
    "\n",
    "- **APIs**: APIs for JavaScript and Python (hosted on GitHub) for making requests to the Earth Engine servers. These docs focus on JavaScript; (Get started guide for the Javascript API). For Python, see the Python install guide and the Python examples in the Earth Engine GitHub repository.\n",
    "\n",
    "- **Code Editor**: An online Integrated Development Environment (IDE) for rapid prototyping and visualization of complex spatial analyses using the Javascript API. Explore the Code Editor docs."
   ]
  },
  {
   "cell_type": "code",
   "execution_count": 0,
   "metadata": {
    "cellView": "form",
    "colab": {
     "base_uri": "https://localhost:8080/",
     "height": 335
    },
    "colab_type": "code",
    "id": "QgDV721Tg2kD",
    "outputId": "5b63ae15-6740-40ec-919a-2ce857bfb2d9"
   },
   "outputs": [
    {
     "data": {
      "text/html": [
       "<center><iframe width=\"560\" height=\"315\" src=\"https://www.youtube.com/embed/gKGOeTFHnKY\" frameborder=\"0\" allow=\"accelerometer; autoplay; encrypted-media; gyroscope; picture-in-picture\" allowfullscreen></iframe></center>"
      ],
      "text/plain": [
       "<IPython.core.display.HTML object>"
      ]
     },
     "execution_count": 4,
     "metadata": {
      "tags": []
     },
     "output_type": "execute_result"
    }
   ],
   "source": [
    "#@title ### Meet Earth Engine\n",
    "from IPython.display import HTML\n",
    "HTML('<center><iframe width=\"560\" height=\"315\" src=\"https://www.youtube.com/embed/gKGOeTFHnKY\" frameborder=\"0\" allow=\"accelerometer; autoplay; encrypted-media; gyroscope; picture-in-picture\" allowfullscreen></iframe></center>')"
   ]
  },
  {
   "cell_type": "markdown",
   "metadata": {
    "colab_type": "text",
    "id": "_jMW3xWUg6Gr"
   },
   "source": [
    "\n",
    "### Note about access and API stability\n",
    "The Earth Engine API and advanced Earth Engine functionality are experimental and subject to change. Access is limited and requires requesting access via our form."
   ]
  },
  {
   "cell_type": "markdown",
   "metadata": {
    "colab_type": "text",
    "id": "9CRoDhQNiHC8"
   },
   "source": [
    "## 4. Why colab with python instead of code editor (Javascript)?\n",
    "\n",
    "A short comparison thanks to [Tyler Erickson presentation](https://docs.google.com/presentation/d/1MVVeyCdm-FrMVRPop6wB3iyd85TAlwB-F9ygTQZ8S1w/pub?slide=id.g1e419debf0_1_205).\n",
    "\n",
    "**Javascript** | **Python**\n",
    "------------|-----------------\n",
    "- Easy to get started | - Easy to share code between scripts.\n",
    "- Trivial  to share scripts | - Easier transition  to a web application.\n",
    "- Built in authentication | - Allows for series of calls  to Earth Engine.\n",
    "- Limited input/output funcionality | - Many, many plotting options\n",
    "- Can't share code between scripts | - Some assembly (& maintenance) required!.\n",
    "\n"
   ]
  },
  {
   "cell_type": "markdown",
   "metadata": {
    "colab_type": "text",
    "id": "3fvjtgedmrxq"
   },
   "source": [
    "##  5. Connecting GEE with other Google Services\n",
    "\n",
    "\n",
    "The Earth Engine Python API and command line tools can be installed using Python's pip package installation tool.\n",
    "\n",
    "Psss!: The following notebook cell line is starts with ! to indicate that a shell command should be invoked."
   ]
  },
  {
   "cell_type": "code",
   "execution_count": 0,
   "metadata": {
    "colab": {},
    "colab_type": "code",
    "id": "_LSeUMzmoQpw"
   },
   "outputs": [],
   "source": [
    "!pip install earthengine-api"
   ]
  },
  {
   "cell_type": "markdown",
   "metadata": {
    "colab_type": "text",
    "id": "iC8wVueFoT85"
   },
   "source": [
    "### Authentication \n",
    "\n",
    "To read/write from a Google Drive or Google Cloud Storage bucket to which you have access, it's necessary to authenticate (as yourself). You'll also need to authenticate as yourself with Earth Engine, so that you'll have access to your scripts, assets, etc.\n",
    "\n",
    "#### Authenticate to Earth Engine\n",
    "\n",
    "In order to access Earth Engine, signup at [signup.earthengine.google.com](https://signup.earthengine.google.com/).\n",
    "\n",
    "Identify yourself to Google Cloud, so you have access to storage and other resources. When you run the code below, it will display a link in the output to an authentication page in your browser. Follow the link to a page that will let you grant permission to the Google Earth Engine to access your resources. Copy the code from the permissions page back into this notebook and press return to complete the process.\n",
    "\n"
   ]
  },
  {
   "cell_type": "code",
   "execution_count": 0,
   "metadata": {
    "colab": {},
    "colab_type": "code",
    "id": "MeEs5x5uoevg"
   },
   "outputs": [],
   "source": [
    "!earthengine authenticate"
   ]
  },
  {
   "cell_type": "markdown",
   "metadata": {
    "colab_type": "text",
    "id": "SQ2O6uE2uRgL"
   },
   "source": [
    "#### Authenticate to Google Drive\n",
    "\n",
    "Authenticate to **Google Drive** on  the same way you did to the Earth Engine."
   ]
  },
  {
   "cell_type": "code",
   "execution_count": 0,
   "metadata": {
    "colab": {},
    "colab_type": "code",
    "id": "SGq1N9ljuVbl"
   },
   "outputs": [],
   "source": [
    "from google.colab import drive\n",
    "drive.mount('/content/drive')"
   ]
  },
  {
   "cell_type": "markdown",
   "metadata": {
    "colab_type": "text",
    "id": "cxGc4qGJuY1K"
   },
   "source": [
    "#### Authenticate to Google Cloud\n",
    "\n",
    "Authenticate to **Google Cloud** on  the same way you did to the Earth Engine.\n"
   ]
  },
  {
   "cell_type": "code",
   "execution_count": 0,
   "metadata": {
    "colab": {},
    "colab_type": "code",
    "id": "RUsQ8LJQuefL"
   },
   "outputs": [],
   "source": [
    "from google.colab import auth\n",
    "auth.authenticate_user()"
   ]
  },
  {
   "cell_type": "markdown",
   "metadata": {
    "colab_type": "text",
    "id": "NHrBAom4whXN"
   },
   "source": [
    " Once you have authorized access (just Earth Engine auth is required). Initialize your connection as shown the cell below."
   ]
  },
  {
   "cell_type": "code",
   "execution_count": 0,
   "metadata": {
    "colab": {},
    "colab_type": "code",
    "id": "5F0WYN_8xECE"
   },
   "outputs": [],
   "source": [
    "# Import the Earth Engine API and initialize it.\n",
    "import ee\n",
    "ee.Initialize()"
   ]
  },
  {
   "cell_type": "markdown",
   "metadata": {
    "colab_type": "text",
    "id": "smUsOFYLy3J5"
   },
   "source": [
    "## 6. Hello World!\n",
    "\n",
    "\n",
    "- **assetID**: Is the key to identify a specific file in [GEE datasets](https://developers.google.com/earth-engine/datasets/catalog/USGS_SRTMGL1_003).\n",
    "- **ee.Image('assetID')**: In GEE raster data are represented as Image objects (see the next topic). \n",
    "- **ee.Image.clip(ee.Geometry.____)**: Is a ee.Image method used to crop spatially all the bands in Images.\n",
    "- **folium**: bridge between Python and [Leaflet](https://leafletjs.com/)\n"
   ]
  },
  {
   "cell_type": "code",
   "execution_count": 0,
   "metadata": {
    "colab": {
     "base_uri": "https://localhost:8080/",
     "height": 559
    },
    "colab_type": "code",
    "id": "GeMYFEvKy43n",
    "outputId": "208a7be4-8ba5-4e03-f220-c53c6096cc33"
   },
   "outputs": [
    {
     "data": {
      "text/html": [
       "<div style=\"width:100%;\"><div style=\"position:relative;width:100%;height:0;padding-bottom:60%;\"><iframe src=\"data:text/html;charset=utf-8;base64,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\" style=\"position:absolute;width:100%;height:100%;left:0;top:0;border:none !important;\" allowfullscreen webkitallowfullscreen mozallowfullscreen></iframe></div></div>"
      ],
      "text/plain": [
       "<folium.folium.Map at 0x7f4cd60a9710>"
      ]
     },
     "execution_count": 16,
     "metadata": {
      "tags": []
     },
     "output_type": "execute_result"
    }
   ],
   "source": [
    "import folium\n",
    "\n",
    "Peru = ee.Image(\"USGS/SRTMGL1_003\")\\\n",
    "         .clip(ee.Geometry.Rectangle(-85, -20, -65,0))\n",
    "\n",
    "# Define the URL format used for Earth Engine generated map tiles.\n",
    "EE_TILES = 'https://earthengine.googleapis.com/map/{mapid}/{{z}}/{{x}}/{{y}}?token={token}'\n",
    "\n",
    "# Use folium to visualize the imagery.\n",
    "mapid = Peru.getMapId({'pallete': ['black', 'white'], 'min': 0, 'max': 3000})\n",
    "\n",
    "map = folium.Map(location=[-10, -75],zoom_start=5)\n",
    "folium.TileLayer(\n",
    "    tiles = mapid[\"tile_fetcher\"].url_format,\n",
    "    attr='Google Earth Engine',\n",
    "    overlay=True,\n",
    "    name='median composite',\n",
    "  ).add_to(map)\n",
    "map.add_child(folium.LayerControl())\n",
    "map"
   ]
  },
  {
   "cell_type": "markdown",
   "metadata": {
    "colab_type": "text",
    "id": "7QhIzsv01DU5"
   },
   "source": [
    "## 7. Fundamental Earth Engine data structures\n",
    "\n",
    "The two most fundamental geographic data structures in Earth Engine are **`Image`** and **`Feature`** corresponding to raster and vector data types, respectively. Images are composed of bands and a dictionary of properties. Features are composed of a **`Geometry`** and a dictionary of properties. A stack of images (e.g. an image time series) is handled by an **`ImageCollection`**. A collection of features is handled by a  **`FeatureCollection`**. Other fundamental data structures in Earth Engine include:\n",
    "\n",
    "- `Dictionary`\n",
    "- `List`\n",
    "- `Array`\n",
    "- `Geometry`\n",
    "- `Date`\n",
    "- `Number`\n",
    "- `String`.\n",
    "\n",
    "It is important to remember that these are all **server-side objects (or containers)**. That is, your client browser does not know anything about the objects in your script unless you explicitly request information about them. That request triggers a message being passed from Google to the Python API. If the message is large, there will be a corresponding slow down. Existing two ways to inspect **Earth Engine containers**  in Python console. The first one, `print()` that return the  petition (as a JSON) to the server and `*.getInfo()` that returns the contents of the `container`.  The next section summaries all the Data Structures mentioned above.\n",
    "\n"
   ]
  },
  {
   "cell_type": "markdown",
   "metadata": {
    "colab_type": "text",
    "id": "LzAFvH1p4L_C"
   },
   "source": [
    "#### 7.1. Strings\n",
    "\n",
    "Define a Python string, then put it into the **`ee.String()`** container to be sent to Earth Engine:"
   ]
  },
  {
   "cell_type": "code",
   "execution_count": 0,
   "metadata": {
    "colab": {},
    "colab_type": "code",
    "id": "NDvyLLcw16Dw"
   },
   "outputs": [],
   "source": [
    "# Define a string, then put it into an EE container.\n",
    "aString = 'To the cloud!'\n",
    "eeString = ee.String(aString)\n",
    "print('Where to?', eeString)\n",
    "eeString"
   ]
  },
  {
   "cell_type": "markdown",
   "metadata": {
    "colab_type": "text",
    "id": "zgmudfl-2Ek6"
   },
   "source": [
    "Think of **`ee.Thing`** as a container for a thing that exists on the server. In this example, the string is defined first, then put into the container. \n",
    "\n",
    "### 7.2. Numbers\n",
    "\n",
    "Use **`ee.Number()`** to create number objects on the server."
   ]
  },
  {
   "cell_type": "code",
   "execution_count": 0,
   "metadata": {
    "colab": {},
    "colab_type": "code",
    "id": "w0VGwFim3Ugp"
   },
   "outputs": [],
   "source": [
    "# Define a number that exists on the server.\n",
    "import numpy as np\n",
    "serverNumber = ee.Number(np.e)\n",
    "print('e=', serverNumber)\n",
    "serverNumber"
   ]
  },
  {
   "cell_type": "markdown",
   "metadata": {
    "colab_type": "text",
    "id": "-IFAt2YT3Ytx"
   },
   "source": [
    "### 7.3. Lists\n",
    "\n",
    "To make a Python list into an **`ee.List`** object on the server, you can put a Python literal into a container as with numbers and strings. Earth Engine also provides server-side convenience methods for making sequences of numbers.\n",
    "\n"
   ]
  },
  {
   "cell_type": "code",
   "execution_count": 0,
   "metadata": {
    "colab": {},
    "colab_type": "code",
    "id": "J1kzgip03XPb"
   },
   "outputs": [],
   "source": [
    "# Make a sequence the hard way.\n",
    "eeList = ee.List([1, 2, 3, 4, 5])\n",
    "\n",
    "# Make a sequence the easy way!\n",
    "sequence = ee.List.sequence(1, 5);\n",
    "\n",
    "print('Sequence:', sequence)\n",
    "print('Opening the container:', sequence.getInfo())"
   ]
  },
  {
   "cell_type": "markdown",
   "metadata": {
    "colab_type": "text",
    "id": "yXsITlrg3c4U"
   },
   "source": [
    "### 7.4. Dictionaries\n",
    "\n",
    "You can construct an Earth Engine `Dictionary` from a Python object, as with strings, numbers and lists. At construction time, you can use Python functionality to initialize the Earth Engine object. In this case an ee.Dictionary is constructed directly from a Python literal object:"
   ]
  },
  {
   "cell_type": "code",
   "execution_count": 0,
   "metadata": {
    "colab": {},
    "colab_type": "code",
    "id": "p808bk_F3dTZ"
   },
   "outputs": [],
   "source": [
    "dictionary = ee.Dictionary({\n",
    "  'e': np.e,\n",
    "  'pi': np.pi,\n",
    "  'phi': (1 + np.sqrt(5))/2\n",
    "})\n",
    "\n",
    "# Get some values from the dictionary.\n",
    "print('Euler:', dictionary.get('e').getInfo())\n",
    "print('Pi:', dictionary.get('pi').getInfo())\n",
    "print('Golden ratio:', dictionary.get('phi').getInfo())\n",
    "\n",
    "# Get all the keys:\n",
    "print('Keys: ', dictionary.keys().getInfo())"
   ]
  },
  {
   "cell_type": "markdown",
   "metadata": {
    "colab_type": "text",
    "id": "VapD_lKe3h1h"
   },
   "source": [
    "In this example, observe that once you have an `ee.Dictionary`, you must use methods on the `ee.Dictionary` to get values. Specifically, get(key) returns the value associated with key. Since the type of object returned by `get()` could be be anything, if you're going to do anything to the object other then print it, you need to cast it to the right type. Also note that the `keys()` method returns an List."
   ]
  },
  {
   "cell_type": "markdown",
   "metadata": {
    "colab_type": "text",
    "id": "O08_uhb63puh"
   },
   "source": [
    "### 7.5. Dates\n",
    "\n",
    "Date objects are the way Earth Engine represents time. As in the previous examples, it is important to distinguish between a Python Date object and an Earth Engine `ee.Date` object.\n",
    "\n",
    "A Date object can be construct from:\n",
    "  - A string.\n",
    "  - Python [datetime](https://docs.python.org/3/library/datetime.html) object.\n",
    "  - Static methods provided by the ee.Date class.\n",
    "  \n",
    "The next examples illustrates the construction of dates from these three forms."
   ]
  },
  {
   "cell_type": "code",
   "execution_count": 0,
   "metadata": {
    "colab": {},
    "colab_type": "code",
    "id": "8QOrLUcP3icW"
   },
   "outputs": [],
   "source": [
    "# Define a date in Earth Engine.\n",
    "date = ee.Date('2015-12-31')\n",
    "print('Date:', date)\n",
    "print('Date:', date.getInfo())"
   ]
  },
  {
   "cell_type": "markdown",
   "metadata": {
    "colab_type": "text",
    "id": "QSLwbOtd3uuE"
   },
   "source": [
    "In earth engine the date is representing with timestamps since midnight on January 1, 1970 considering an in milliseconds timestep . "
   ]
  },
  {
   "cell_type": "code",
   "execution_count": 0,
   "metadata": {
    "colab": {},
    "colab_type": "code",
    "id": "z7ZMj2FI3wc2"
   },
   "outputs": [],
   "source": [
    "# Get the current time using the JavaScript Date.now() method.\n",
    "import datetime as dt\n",
    "now = dt.datetime.now()\n",
    "print('Milliseconds since January 1, 1970', now)\n",
    "\n",
    "# Initialize an ee.Date object.\n",
    "eeNow = ee.Date(now)\n",
    "print('Now:', eeNow)"
   ]
  },
  {
   "cell_type": "markdown",
   "metadata": {
    "colab_type": "text",
    "id": "ya02lB5K3zAY"
   },
   "source": [
    "Arguments to Earth Engine methods can be passed in order, for example to create an `ee.Date` from year, month and day, you can pass parameters of the `fromYMD()` static method in the order year, month, day:\n",
    "\n"
   ]
  },
  {
   "cell_type": "code",
   "execution_count": 0,
   "metadata": {
    "colab": {},
    "colab_type": "code",
    "id": "rm8Ae53731KW"
   },
   "outputs": [],
   "source": [
    "aDate = ee.Date.fromYMD(2017, 1, 13)\n",
    "print('aDate:', aDate)"
   ]
  },
  {
   "cell_type": "markdown",
   "metadata": {
    "colab_type": "text",
    "id": "wxOiCbzJg9k8"
   },
   "source": [
    "<!--NAVIGATION-->\n",
    "| [Contents](index.ipynb) | [Image](2_eeImage.ipynb) >\n",
    "\n",
    "<a href=\"https://colab.research.google.com/github/csaybar/EEwPython/blob/master/1_Introduction.ipynb\"><img align=\"left\" src=\"https://colab.research.google.com/assets/colab-badge.svg\" alt=\"Open in Colab\" title=\"Open and Execute in Google Colaboratory\"></a>\n"
   ]
  }
 ],
 "metadata": {
  "colab": {
   "collapsed_sections": [],
   "name": "0_WhatIsColab.ipynb",
   "provenance": [],
   "toc_visible": true,
   "version": "0.3.2"
  },
  "kernelspec": {
   "display_name": "Python 3",
   "language": "python",
   "name": "python3"
  },
  "language_info": {
   "codemirror_mode": {
    "name": "ipython",
    "version": 3
   },
   "file_extension": ".py",
   "mimetype": "text/x-python",
   "name": "python",
   "nbconvert_exporter": "python",
   "pygments_lexer": "ipython3",
   "version": "3.6.8"
  }
 },
 "nbformat": 4,
 "nbformat_minor": 1
}
